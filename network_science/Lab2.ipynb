{
 "cells": [
  {
   "cell_type": "markdown",
   "metadata": {},
   "source": [
    "## Network Science Lab 2"
   ]
  },
  {
   "cell_type": "code",
   "execution_count": 17,
   "metadata": {},
   "outputs": [
    {
     "output_type": "stream",
     "name": "stdout",
     "text": [
      "Populating the interactive namespace from numpy and matplotlib\n"
     ]
    }
   ],
   "source": [
    "#Run this cell 1st to import numpy, matplotlib, and networkx\n",
    "%pylab inline\n",
    "import networkx as nx"
   ]
  },
  {
   "cell_type": "markdown",
   "metadata": {},
   "source": [
    "### Task 1: Connected components"
   ]
  },
  {
   "cell_type": "markdown",
   "metadata": {},
   "source": [
    "In this task, you will develop code to find the connected components in a graph.\n",
    "Recall that a connected component of a graph is a set of nodes where there is at least one path between any pair of nodes in the set. A graph may contain several connected components, and the aim of this task is to assign a distinct numerical label to all nodes belonging to the same component. So, if a graph with 5 nodes has links: 0-1, 1-2, 3-4, then nodes 0,1,2 would be labeled belonging to component \"0\" and nodes 3,4 would be assigned to component \"1\". \n",
    "\n",
    "The basic algorithm is as follows:\n",
    "\n",
    "* Initialize numerical labels to -1\n",
    "* Loop through all nodes in graph\n",
    "* if current node has not been explored\n",
    "  * Assign numerical label to current node and label it as explored\n",
    "  * Find all nodes reachable from current node, label them as explored and assign numerical label to them\n",
    "  * Increment numerical label\n",
    "\n"
   ]
  },
  {
   "cell_type": "markdown",
   "metadata": {},
   "source": [
    "1. Implement this algorithm in the cell below so that *connect* takes a networkx graph as input and creates a list, Lconnect, where Lconnect[i] is the label for the connected component that node i belongs to. You may assume that nodes have \n",
    "been numbered from 0 to N-1. You have been provided with a function that implements breadth-first search, and it may be helpful to create a copy of this function which can then be modified and called by *connect*"
   ]
  },
  {
   "cell_type": "code",
   "execution_count": 46,
   "metadata": {},
   "outputs": [],
   "source": [
    "def bfs(G,s):\n",
    "    \"\"\"\n",
    "    Input:\n",
    "    G: networkx graph\n",
    "    s: source node\n",
    "    Find reachable nodes using BFS\n",
    "    Output:\n",
    "    L2: Labels for all nodes in graph, 0=unreachable from source, 1=reachable\n",
    "    \"\"\"\n",
    "\n",
    "    L1 = list(G.nodes) #Assumes nodes are numbered from 0 to N-1\n",
    "    L2 = [0 for l in L1]\n",
    "\n",
    "    Q=[]\n",
    "    Q.append(s)\n",
    "    L2[s]=1\n",
    "\n",
    "    while len(Q)>0:\n",
    "        x = Q.pop(0)\n",
    "        for v in G.adj[x].keys():\n",
    "            if L2[v]==0:\n",
    "                Q.append(v)\n",
    "                L2[v]=1\n",
    "            #print(\"v=\",v)\n",
    "            #print(\"Q=\",Q)\n",
    "    return L2\n",
    "\n",
    "def connect(G):\n",
    "    \"\"\"Find connected components of G and label nodes appropriately\n",
    "    in list, Lconnect.\n",
    "    \"\"\"\n",
    "    depth = 1000\n",
    "    components = []\n",
    "    queue = n = list(G.nodes)\n",
    "    while queue and depth != 0:\n",
    "        x = queue[0]\n",
    "        b = bfs(G, x)\n",
    "        c = [node for node in n if b[n.index(node)] != 0]\n",
    "        components.append(c)\n",
    "        queue = [node for node in queue if node not in c]\n",
    "        depth -= 1\n",
    "    \n",
    "    labeled = dict([(i, components[i]) for i in range(len(components))])\n",
    "    Lconnect = [-1 for _ in range(len(n))]\n",
    "    for i in n:\n",
    "        for l in labeled:\n",
    "            if i in labeled[l]:\n",
    "                Lconnect[i] = l\n",
    "\n",
    "    return Lconnect"
   ]
  },
  {
   "cell_type": "code",
   "execution_count": 34,
   "metadata": {},
   "outputs": [
    {
     "output_type": "execute_result",
     "data": {
      "text/plain": [
       "[0, 0, 0, 0, 1, 1]"
      ]
     },
     "metadata": {},
     "execution_count": 34
    }
   ],
   "source": [
    "G = nx.Graph([(0, 1), (1, 2), (1, 3), (4, 5)])\n",
    "connect(G)"
   ]
  },
  {
   "cell_type": "markdown",
   "metadata": {},
   "source": [
    "2. The code below can be used to generate a graph with multiple connected components which can be used to verify that your code is correct."
   ]
  },
  {
   "cell_type": "code",
   "execution_count": 48,
   "metadata": {},
   "outputs": [
    {
     "output_type": "display_data",
     "data": {
      "text/plain": "<Figure size 432x288 with 1 Axes>",
      "image/svg+xml": "<?xml version=\"1.0\" encoding=\"utf-8\" standalone=\"no\"?>\n<!DOCTYPE svg PUBLIC \"-//W3C//DTD SVG 1.1//EN\"\n  \"http://www.w3.org/Graphics/SVG/1.1/DTD/svg11.dtd\">\n<!-- Created with matplotlib (https://matplotlib.org/) -->\n<svg height=\"302.4pt\" version=\"1.1\" viewBox=\"0 0 446.4 302.4\" width=\"446.4pt\" xmlns=\"http://www.w3.org/2000/svg\" xmlns:xlink=\"http://www.w3.org/1999/xlink\">\n <defs>\n  <style type=\"text/css\">\n*{stroke-linecap:butt;stroke-linejoin:round;}\n  </style>\n </defs>\n <g id=\"figure_1\">\n  <g id=\"patch_1\">\n   <path d=\"M 0 302.4 \nL 446.4 302.4 \nL 446.4 0 \nL 0 0 \nz\n\" style=\"fill:#ffffff;\"/>\n  </g>\n  <g id=\"axes_1\">\n   <g id=\"LineCollection_1\">\n    <path clip-path=\"url(#p4505425fbe)\" d=\"M 346.933191 188.221401 \nL 331.674672 188.512451 \n\" style=\"fill:none;stroke:#000000;\"/>\n    <path clip-path=\"url(#p4505425fbe)\" d=\"M 289.583748 275.610418 \nL 272.47472 273.972678 \n\" style=\"fill:none;stroke:#000000;\"/>\n    <path clip-path=\"url(#p4505425fbe)\" d=\"M 186.277898 87.42225 \nL 194.296234 101.733276 \n\" style=\"fill:none;stroke:#000000;\"/>\n    <path clip-path=\"url(#p4505425fbe)\" d=\"M 194.296234 101.733276 \nL 175.650036 107.510545 \n\" style=\"fill:none;stroke:#000000;\"/>\n    <path clip-path=\"url(#p4505425fbe)\" d=\"M 194.296234 101.733276 \nL 216.142236 107.310763 \n\" style=\"fill:none;stroke:#000000;\"/>\n    <path clip-path=\"url(#p4505425fbe)\" d=\"M 235.082007 110.565967 \nL 216.142236 107.310763 \n\" style=\"fill:none;stroke:#000000;\"/>\n    <path clip-path=\"url(#p4505425fbe)\" d=\"M 259.02475 264.144542 \nL 272.47472 273.972678 \n\" style=\"fill:none;stroke:#000000;\"/>\n   </g>\n   <g id=\"PathCollection_1\">\n    <defs>\n     <path d=\"M 0 1.414214 \nC 0.375054 1.414214 0.734797 1.265203 1 1 \nC 1.265203 0.734797 1.414214 0.375054 1.414214 0 \nC 1.414214 -0.375054 1.265203 -0.734797 1 -1 \nC 0.734797 -1.265203 0.375054 -1.414214 0 -1.414214 \nC -0.375054 -1.414214 -0.734797 -1.265203 -1 -1 \nC -1.265203 -0.734797 -1.414214 -0.375054 -1.414214 0 \nC -1.414214 0.375054 -1.265203 0.734797 -1 1 \nC -0.734797 1.265203 -0.375054 1.414214 0 1.414214 \nz\n\" id=\"mb005434b51\" style=\"stroke:#1f78b4;\"/>\n    </defs>\n    <g clip-path=\"url(#p4505425fbe)\">\n     <use style=\"fill:#1f78b4;stroke:#1f78b4;\" x=\"346.933191\" xlink:href=\"#mb005434b51\" y=\"188.221401\"/>\n     <use style=\"fill:#1f78b4;stroke:#1f78b4;\" x=\"419.563636\" xlink:href=\"#mb005434b51\" y=\"106.647965\"/>\n     <use style=\"fill:#1f78b4;stroke:#1f78b4;\" x=\"331.674672\" xlink:href=\"#mb005434b51\" y=\"188.512451\"/>\n     <use style=\"fill:#1f78b4;stroke:#1f78b4;\" x=\"61.929829\" xlink:href=\"#mb005434b51\" y=\"213.656194\"/>\n     <use style=\"fill:#1f78b4;stroke:#1f78b4;\" x=\"176.061829\" xlink:href=\"#mb005434b51\" y=\"282.109091\"/>\n     <use style=\"fill:#1f78b4;stroke:#1f78b4;\" x=\"414.347713\" xlink:href=\"#mb005434b51\" y=\"182.51867\"/>\n     <use style=\"fill:#1f78b4;stroke:#1f78b4;\" x=\"289.583748\" xlink:href=\"#mb005434b51\" y=\"275.610418\"/>\n     <use style=\"fill:#1f78b4;stroke:#1f78b4;\" x=\"186.277898\" xlink:href=\"#mb005434b51\" y=\"87.42225\"/>\n     <use style=\"fill:#1f78b4;stroke:#1f78b4;\" x=\"194.296234\" xlink:href=\"#mb005434b51\" y=\"101.733276\"/>\n     <use style=\"fill:#1f78b4;stroke:#1f78b4;\" x=\"175.650036\" xlink:href=\"#mb005434b51\" y=\"107.510545\"/>\n     <use style=\"fill:#1f78b4;stroke:#1f78b4;\" x=\"45.859233\" xlink:href=\"#mb005434b51\" y=\"81.529132\"/>\n     <use style=\"fill:#1f78b4;stroke:#1f78b4;\" x=\"235.082007\" xlink:href=\"#mb005434b51\" y=\"110.565967\"/>\n     <use style=\"fill:#1f78b4;stroke:#1f78b4;\" x=\"334.298042\" xlink:href=\"#mb005434b51\" y=\"20.290909\"/>\n     <use style=\"fill:#1f78b4;stroke:#1f78b4;\" x=\"216.142236\" xlink:href=\"#mb005434b51\" y=\"107.310763\"/>\n     <use style=\"fill:#1f78b4;stroke:#1f78b4;\" x=\"26.836364\" xlink:href=\"#mb005434b51\" y=\"166.192527\"/>\n     <use style=\"fill:#1f78b4;stroke:#1f78b4;\" x=\"346.805926\" xlink:href=\"#mb005434b51\" y=\"55.796332\"/>\n     <use style=\"fill:#1f78b4;stroke:#1f78b4;\" x=\"82.99208\" xlink:href=\"#mb005434b51\" y=\"259.076008\"/>\n     <use style=\"fill:#1f78b4;stroke:#1f78b4;\" x=\"259.02475\" xlink:href=\"#mb005434b51\" y=\"264.144542\"/>\n     <use style=\"fill:#1f78b4;stroke:#1f78b4;\" x=\"272.47472\" xlink:href=\"#mb005434b51\" y=\"273.972678\"/>\n     <use style=\"fill:#1f78b4;stroke:#1f78b4;\" x=\"172.072629\" xlink:href=\"#mb005434b51\" y=\"25.123839\"/>\n    </g>\n   </g>\n   <g id=\"text_1\">\n    <g clip-path=\"url(#p4505425fbe)\">\n     <!-- 0 -->\n     <defs>\n      <path d=\"M 31.78125 66.40625 \nQ 24.171875 66.40625 20.328125 58.90625 \nQ 16.5 51.421875 16.5 36.375 \nQ 16.5 21.390625 20.328125 13.890625 \nQ 24.171875 6.390625 31.78125 6.390625 \nQ 39.453125 6.390625 43.28125 13.890625 \nQ 47.125 21.390625 47.125 36.375 \nQ 47.125 51.421875 43.28125 58.90625 \nQ 39.453125 66.40625 31.78125 66.40625 \nz\nM 31.78125 74.21875 \nQ 44.046875 74.21875 50.515625 64.515625 \nQ 56.984375 54.828125 56.984375 36.375 \nQ 56.984375 17.96875 50.515625 8.265625 \nQ 44.046875 -1.421875 31.78125 -1.421875 \nQ 19.53125 -1.421875 13.0625 8.265625 \nQ 6.59375 17.96875 6.59375 36.375 \nQ 6.59375 54.828125 13.0625 64.515625 \nQ 19.53125 74.21875 31.78125 74.21875 \nz\n\" id=\"DejaVuSans-48\"/>\n     </defs>\n     <g transform=\"translate(343.115691 191.532651)scale(0.12 -0.12)\">\n      <use xlink:href=\"#DejaVuSans-48\"/>\n     </g>\n    </g>\n   </g>\n   <g id=\"text_2\">\n    <g clip-path=\"url(#p4505425fbe)\">\n     <!-- 1 -->\n     <defs>\n      <path d=\"M 12.40625 8.296875 \nL 28.515625 8.296875 \nL 28.515625 63.921875 \nL 10.984375 60.40625 \nL 10.984375 69.390625 \nL 28.421875 72.90625 \nL 38.28125 72.90625 \nL 38.28125 8.296875 \nL 54.390625 8.296875 \nL 54.390625 0 \nL 12.40625 0 \nz\n\" id=\"DejaVuSans-49\"/>\n     </defs>\n     <g transform=\"translate(415.746136 109.959215)scale(0.12 -0.12)\">\n      <use xlink:href=\"#DejaVuSans-49\"/>\n     </g>\n    </g>\n   </g>\n   <g id=\"text_3\">\n    <g clip-path=\"url(#p4505425fbe)\">\n     <!-- 2 -->\n     <defs>\n      <path d=\"M 19.1875 8.296875 \nL 53.609375 8.296875 \nL 53.609375 0 \nL 7.328125 0 \nL 7.328125 8.296875 \nQ 12.9375 14.109375 22.625 23.890625 \nQ 32.328125 33.6875 34.8125 36.53125 \nQ 39.546875 41.84375 41.421875 45.53125 \nQ 43.3125 49.21875 43.3125 52.78125 \nQ 43.3125 58.59375 39.234375 62.25 \nQ 35.15625 65.921875 28.609375 65.921875 \nQ 23.96875 65.921875 18.8125 64.3125 \nQ 13.671875 62.703125 7.8125 59.421875 \nL 7.8125 69.390625 \nQ 13.765625 71.78125 18.9375 73 \nQ 24.125 74.21875 28.421875 74.21875 \nQ 39.75 74.21875 46.484375 68.546875 \nQ 53.21875 62.890625 53.21875 53.421875 \nQ 53.21875 48.921875 51.53125 44.890625 \nQ 49.859375 40.875 45.40625 35.40625 \nQ 44.1875 33.984375 37.640625 27.21875 \nQ 31.109375 20.453125 19.1875 8.296875 \nz\n\" id=\"DejaVuSans-50\"/>\n     </defs>\n     <g transform=\"translate(327.857172 191.823701)scale(0.12 -0.12)\">\n      <use xlink:href=\"#DejaVuSans-50\"/>\n     </g>\n    </g>\n   </g>\n   <g id=\"text_4\">\n    <g clip-path=\"url(#p4505425fbe)\">\n     <!-- 3 -->\n     <defs>\n      <path d=\"M 40.578125 39.3125 \nQ 47.65625 37.796875 51.625 33 \nQ 55.609375 28.21875 55.609375 21.1875 \nQ 55.609375 10.40625 48.1875 4.484375 \nQ 40.765625 -1.421875 27.09375 -1.421875 \nQ 22.515625 -1.421875 17.65625 -0.515625 \nQ 12.796875 0.390625 7.625 2.203125 \nL 7.625 11.71875 \nQ 11.71875 9.328125 16.59375 8.109375 \nQ 21.484375 6.890625 26.8125 6.890625 \nQ 36.078125 6.890625 40.9375 10.546875 \nQ 45.796875 14.203125 45.796875 21.1875 \nQ 45.796875 27.640625 41.28125 31.265625 \nQ 36.765625 34.90625 28.71875 34.90625 \nL 20.21875 34.90625 \nL 20.21875 43.015625 \nL 29.109375 43.015625 \nQ 36.375 43.015625 40.234375 45.921875 \nQ 44.09375 48.828125 44.09375 54.296875 \nQ 44.09375 59.90625 40.109375 62.90625 \nQ 36.140625 65.921875 28.71875 65.921875 \nQ 24.65625 65.921875 20.015625 65.03125 \nQ 15.375 64.15625 9.8125 62.3125 \nL 9.8125 71.09375 \nQ 15.4375 72.65625 20.34375 73.4375 \nQ 25.25 74.21875 29.59375 74.21875 \nQ 40.828125 74.21875 47.359375 69.109375 \nQ 53.90625 64.015625 53.90625 55.328125 \nQ 53.90625 49.265625 50.4375 45.09375 \nQ 46.96875 40.921875 40.578125 39.3125 \nz\n\" id=\"DejaVuSans-51\"/>\n     </defs>\n     <g transform=\"translate(58.112329 216.967444)scale(0.12 -0.12)\">\n      <use xlink:href=\"#DejaVuSans-51\"/>\n     </g>\n    </g>\n   </g>\n   <g id=\"text_5\">\n    <g clip-path=\"url(#p4505425fbe)\">\n     <!-- 4 -->\n     <defs>\n      <path d=\"M 37.796875 64.3125 \nL 12.890625 25.390625 \nL 37.796875 25.390625 \nz\nM 35.203125 72.90625 \nL 47.609375 72.90625 \nL 47.609375 25.390625 \nL 58.015625 25.390625 \nL 58.015625 17.1875 \nL 47.609375 17.1875 \nL 47.609375 0 \nL 37.796875 0 \nL 37.796875 17.1875 \nL 4.890625 17.1875 \nL 4.890625 26.703125 \nz\n\" id=\"DejaVuSans-52\"/>\n     </defs>\n     <g transform=\"translate(172.244329 285.420341)scale(0.12 -0.12)\">\n      <use xlink:href=\"#DejaVuSans-52\"/>\n     </g>\n    </g>\n   </g>\n   <g id=\"text_6\">\n    <g clip-path=\"url(#p4505425fbe)\">\n     <!-- 5 -->\n     <defs>\n      <path d=\"M 10.796875 72.90625 \nL 49.515625 72.90625 \nL 49.515625 64.59375 \nL 19.828125 64.59375 \nL 19.828125 46.734375 \nQ 21.96875 47.46875 24.109375 47.828125 \nQ 26.265625 48.1875 28.421875 48.1875 \nQ 40.625 48.1875 47.75 41.5 \nQ 54.890625 34.8125 54.890625 23.390625 \nQ 54.890625 11.625 47.5625 5.09375 \nQ 40.234375 -1.421875 26.90625 -1.421875 \nQ 22.3125 -1.421875 17.546875 -0.640625 \nQ 12.796875 0.140625 7.71875 1.703125 \nL 7.71875 11.625 \nQ 12.109375 9.234375 16.796875 8.0625 \nQ 21.484375 6.890625 26.703125 6.890625 \nQ 35.15625 6.890625 40.078125 11.328125 \nQ 45.015625 15.765625 45.015625 23.390625 \nQ 45.015625 31 40.078125 35.4375 \nQ 35.15625 39.890625 26.703125 39.890625 \nQ 22.75 39.890625 18.8125 39.015625 \nQ 14.890625 38.140625 10.796875 36.28125 \nz\n\" id=\"DejaVuSans-53\"/>\n     </defs>\n     <g transform=\"translate(410.530213 185.82992)scale(0.12 -0.12)\">\n      <use xlink:href=\"#DejaVuSans-53\"/>\n     </g>\n    </g>\n   </g>\n   <g id=\"text_7\">\n    <g clip-path=\"url(#p4505425fbe)\">\n     <!-- 6 -->\n     <defs>\n      <path d=\"M 33.015625 40.375 \nQ 26.375 40.375 22.484375 35.828125 \nQ 18.609375 31.296875 18.609375 23.390625 \nQ 18.609375 15.53125 22.484375 10.953125 \nQ 26.375 6.390625 33.015625 6.390625 \nQ 39.65625 6.390625 43.53125 10.953125 \nQ 47.40625 15.53125 47.40625 23.390625 \nQ 47.40625 31.296875 43.53125 35.828125 \nQ 39.65625 40.375 33.015625 40.375 \nz\nM 52.59375 71.296875 \nL 52.59375 62.3125 \nQ 48.875 64.0625 45.09375 64.984375 \nQ 41.3125 65.921875 37.59375 65.921875 \nQ 27.828125 65.921875 22.671875 59.328125 \nQ 17.53125 52.734375 16.796875 39.40625 \nQ 19.671875 43.65625 24.015625 45.921875 \nQ 28.375 48.1875 33.59375 48.1875 \nQ 44.578125 48.1875 50.953125 41.515625 \nQ 57.328125 34.859375 57.328125 23.390625 \nQ 57.328125 12.15625 50.6875 5.359375 \nQ 44.046875 -1.421875 33.015625 -1.421875 \nQ 20.359375 -1.421875 13.671875 8.265625 \nQ 6.984375 17.96875 6.984375 36.375 \nQ 6.984375 53.65625 15.1875 63.9375 \nQ 23.390625 74.21875 37.203125 74.21875 \nQ 40.921875 74.21875 44.703125 73.484375 \nQ 48.484375 72.75 52.59375 71.296875 \nz\n\" id=\"DejaVuSans-54\"/>\n     </defs>\n     <g transform=\"translate(285.766248 278.921668)scale(0.12 -0.12)\">\n      <use xlink:href=\"#DejaVuSans-54\"/>\n     </g>\n    </g>\n   </g>\n   <g id=\"text_8\">\n    <g clip-path=\"url(#p4505425fbe)\">\n     <!-- 7 -->\n     <defs>\n      <path d=\"M 8.203125 72.90625 \nL 55.078125 72.90625 \nL 55.078125 68.703125 \nL 28.609375 0 \nL 18.3125 0 \nL 43.21875 64.59375 \nL 8.203125 64.59375 \nz\n\" id=\"DejaVuSans-55\"/>\n     </defs>\n     <g transform=\"translate(182.460398 90.7335)scale(0.12 -0.12)\">\n      <use xlink:href=\"#DejaVuSans-55\"/>\n     </g>\n    </g>\n   </g>\n   <g id=\"text_9\">\n    <g clip-path=\"url(#p4505425fbe)\">\n     <!-- 8 -->\n     <defs>\n      <path d=\"M 31.78125 34.625 \nQ 24.75 34.625 20.71875 30.859375 \nQ 16.703125 27.09375 16.703125 20.515625 \nQ 16.703125 13.921875 20.71875 10.15625 \nQ 24.75 6.390625 31.78125 6.390625 \nQ 38.8125 6.390625 42.859375 10.171875 \nQ 46.921875 13.96875 46.921875 20.515625 \nQ 46.921875 27.09375 42.890625 30.859375 \nQ 38.875 34.625 31.78125 34.625 \nz\nM 21.921875 38.8125 \nQ 15.578125 40.375 12.03125 44.71875 \nQ 8.5 49.078125 8.5 55.328125 \nQ 8.5 64.0625 14.71875 69.140625 \nQ 20.953125 74.21875 31.78125 74.21875 \nQ 42.671875 74.21875 48.875 69.140625 \nQ 55.078125 64.0625 55.078125 55.328125 \nQ 55.078125 49.078125 51.53125 44.71875 \nQ 48 40.375 41.703125 38.8125 \nQ 48.828125 37.15625 52.796875 32.3125 \nQ 56.78125 27.484375 56.78125 20.515625 \nQ 56.78125 9.90625 50.3125 4.234375 \nQ 43.84375 -1.421875 31.78125 -1.421875 \nQ 19.734375 -1.421875 13.25 4.234375 \nQ 6.78125 9.90625 6.78125 20.515625 \nQ 6.78125 27.484375 10.78125 32.3125 \nQ 14.796875 37.15625 21.921875 38.8125 \nz\nM 18.3125 54.390625 \nQ 18.3125 48.734375 21.84375 45.5625 \nQ 25.390625 42.390625 31.78125 42.390625 \nQ 38.140625 42.390625 41.71875 45.5625 \nQ 45.3125 48.734375 45.3125 54.390625 \nQ 45.3125 60.0625 41.71875 63.234375 \nQ 38.140625 66.40625 31.78125 66.40625 \nQ 25.390625 66.40625 21.84375 63.234375 \nQ 18.3125 60.0625 18.3125 54.390625 \nz\n\" id=\"DejaVuSans-56\"/>\n     </defs>\n     <g transform=\"translate(190.478734 105.044526)scale(0.12 -0.12)\">\n      <use xlink:href=\"#DejaVuSans-56\"/>\n     </g>\n    </g>\n   </g>\n   <g id=\"text_10\">\n    <g clip-path=\"url(#p4505425fbe)\">\n     <!-- 9 -->\n     <defs>\n      <path d=\"M 10.984375 1.515625 \nL 10.984375 10.5 \nQ 14.703125 8.734375 18.5 7.8125 \nQ 22.3125 6.890625 25.984375 6.890625 \nQ 35.75 6.890625 40.890625 13.453125 \nQ 46.046875 20.015625 46.78125 33.40625 \nQ 43.953125 29.203125 39.59375 26.953125 \nQ 35.25 24.703125 29.984375 24.703125 \nQ 19.046875 24.703125 12.671875 31.3125 \nQ 6.296875 37.9375 6.296875 49.421875 \nQ 6.296875 60.640625 12.9375 67.421875 \nQ 19.578125 74.21875 30.609375 74.21875 \nQ 43.265625 74.21875 49.921875 64.515625 \nQ 56.59375 54.828125 56.59375 36.375 \nQ 56.59375 19.140625 48.40625 8.859375 \nQ 40.234375 -1.421875 26.421875 -1.421875 \nQ 22.703125 -1.421875 18.890625 -0.6875 \nQ 15.09375 0.046875 10.984375 1.515625 \nz\nM 30.609375 32.421875 \nQ 37.25 32.421875 41.125 36.953125 \nQ 45.015625 41.5 45.015625 49.421875 \nQ 45.015625 57.28125 41.125 61.84375 \nQ 37.25 66.40625 30.609375 66.40625 \nQ 23.96875 66.40625 20.09375 61.84375 \nQ 16.21875 57.28125 16.21875 49.421875 \nQ 16.21875 41.5 20.09375 36.953125 \nQ 23.96875 32.421875 30.609375 32.421875 \nz\n\" id=\"DejaVuSans-57\"/>\n     </defs>\n     <g transform=\"translate(171.832536 110.821795)scale(0.12 -0.12)\">\n      <use xlink:href=\"#DejaVuSans-57\"/>\n     </g>\n    </g>\n   </g>\n   <g id=\"text_11\">\n    <g clip-path=\"url(#p4505425fbe)\">\n     <!-- 10 -->\n     <g transform=\"translate(38.224233 84.840382)scale(0.12 -0.12)\">\n      <use xlink:href=\"#DejaVuSans-49\"/>\n      <use x=\"63.623047\" xlink:href=\"#DejaVuSans-48\"/>\n     </g>\n    </g>\n   </g>\n   <g id=\"text_12\">\n    <g clip-path=\"url(#p4505425fbe)\">\n     <!-- 11 -->\n     <g transform=\"translate(227.447007 113.877217)scale(0.12 -0.12)\">\n      <use xlink:href=\"#DejaVuSans-49\"/>\n      <use x=\"63.623047\" xlink:href=\"#DejaVuSans-49\"/>\n     </g>\n    </g>\n   </g>\n   <g id=\"text_13\">\n    <g clip-path=\"url(#p4505425fbe)\">\n     <!-- 12 -->\n     <g transform=\"translate(326.663042 23.602159)scale(0.12 -0.12)\">\n      <use xlink:href=\"#DejaVuSans-49\"/>\n      <use x=\"63.623047\" xlink:href=\"#DejaVuSans-50\"/>\n     </g>\n    </g>\n   </g>\n   <g id=\"text_14\">\n    <g clip-path=\"url(#p4505425fbe)\">\n     <!-- 13 -->\n     <g transform=\"translate(208.507236 110.622013)scale(0.12 -0.12)\">\n      <use xlink:href=\"#DejaVuSans-49\"/>\n      <use x=\"63.623047\" xlink:href=\"#DejaVuSans-51\"/>\n     </g>\n    </g>\n   </g>\n   <g id=\"text_15\">\n    <g clip-path=\"url(#p4505425fbe)\">\n     <!-- 14 -->\n     <g transform=\"translate(19.201364 169.503777)scale(0.12 -0.12)\">\n      <use xlink:href=\"#DejaVuSans-49\"/>\n      <use x=\"63.623047\" xlink:href=\"#DejaVuSans-52\"/>\n     </g>\n    </g>\n   </g>\n   <g id=\"text_16\">\n    <g clip-path=\"url(#p4505425fbe)\">\n     <!-- 15 -->\n     <g transform=\"translate(339.170926 59.107582)scale(0.12 -0.12)\">\n      <use xlink:href=\"#DejaVuSans-49\"/>\n      <use x=\"63.623047\" xlink:href=\"#DejaVuSans-53\"/>\n     </g>\n    </g>\n   </g>\n   <g id=\"text_17\">\n    <g clip-path=\"url(#p4505425fbe)\">\n     <!-- 16 -->\n     <g transform=\"translate(75.35708 262.387258)scale(0.12 -0.12)\">\n      <use xlink:href=\"#DejaVuSans-49\"/>\n      <use x=\"63.623047\" xlink:href=\"#DejaVuSans-54\"/>\n     </g>\n    </g>\n   </g>\n   <g id=\"text_18\">\n    <g clip-path=\"url(#p4505425fbe)\">\n     <!-- 17 -->\n     <g transform=\"translate(251.38975 267.455792)scale(0.12 -0.12)\">\n      <use xlink:href=\"#DejaVuSans-49\"/>\n      <use x=\"63.623047\" xlink:href=\"#DejaVuSans-55\"/>\n     </g>\n    </g>\n   </g>\n   <g id=\"text_19\">\n    <g clip-path=\"url(#p4505425fbe)\">\n     <!-- 18 -->\n     <g transform=\"translate(264.83972 277.283928)scale(0.12 -0.12)\">\n      <use xlink:href=\"#DejaVuSans-49\"/>\n      <use x=\"63.623047\" xlink:href=\"#DejaVuSans-56\"/>\n     </g>\n    </g>\n   </g>\n   <g id=\"text_20\">\n    <g clip-path=\"url(#p4505425fbe)\">\n     <!-- 19 -->\n     <g transform=\"translate(164.437629 28.435089)scale(0.12 -0.12)\">\n      <use xlink:href=\"#DejaVuSans-49\"/>\n      <use x=\"63.623047\" xlink:href=\"#DejaVuSans-57\"/>\n     </g>\n    </g>\n   </g>\n  </g>\n </g>\n <defs>\n  <clipPath id=\"p4505425fbe\">\n   <rect height=\"288\" width=\"432\" x=\"7.2\" y=\"7.2\"/>\n  </clipPath>\n </defs>\n</svg>\n",
      "image/png": "[encoded data removed]"
     },
     "metadata": {}
    }
   ],
   "source": [
    "G = nx.erdos_renyi_graph(20,0.04)\n",
    "nx.draw(G,with_labels=True,node_size=8)"
   ]
  },
  {
   "cell_type": "code",
   "execution_count": 49,
   "metadata": {},
   "outputs": [
    {
     "output_type": "execute_result",
     "data": {
      "text/plain": [
       "[0, 1, 0, 2, 3, 4, 5, 6, 6, 6, 7, 6, 8, 6, 9, 10, 11, 5, 5, 12]"
      ]
     },
     "metadata": {},
     "execution_count": 49
    }
   ],
   "source": [
    "connect(G)"
   ]
  },
  {
   "cell_type": "markdown",
   "metadata": {},
   "source": [
    "### Task 2: Degree distribution of classical random graphs"
   ]
  },
  {
   "cell_type": "markdown",
   "metadata": {},
   "source": [
    "Define $f_k$ as the fraction of nodes in a graph with degree, $k$. Develop a computational experiment that compares $f_k$ and $p_k$ for $G_{Np}$ graphs. You should fix the expected degree to $<k>=4$ and focus on the influence of $N$. Your code should generate a few figures which illustrate one or two key trends."
   ]
  },
  {
   "cell_type": "code",
   "execution_count": 53,
   "metadata": {},
   "outputs": [
    {
     "output_type": "stream",
     "name": "stdout",
     "text": [
      "f_k = 0.0\nf_k = 0.09090909090909091\nf_k = 0.08333333333333333\nf_k = 0.0\nf_k = 0.07142857142857142\nf_k = 0.13333333333333333\nf_k = 0.0625\nf_k = 0.11764705882352941\nf_k = 0.05555555555555555\nf_k = 0.05263157894736842\nf_k = 0.1\nf_k = 0.09523809523809523\nf_k = 0.13636363636363635\nf_k = 0.0\nf_k = 0.08333333333333333\nf_k = 0.04\nf_k = 0.038461538461538464\nf_k = 0.1111111111111111\nf_k = 0.03571428571428571\nf_k = 0.10344827586206896\nf_k = 0.0\nf_k = 0.06451612903225806\nf_k = 0.125\nf_k = 0.12121212121212122\nf_k = 0.029411764705882353\nf_k = 0.05714285714285714\nf_k = 0.027777777777777776\nf_k = 0.05405405405405406\nf_k = 0.0\nf_k = 0.07692307692307693\nf_k = 0.075\nf_k = 0.07317073170731707\nf_k = 0.21428571428571427\nf_k = 0.13953488372093023\nf_k = 0.022727272727272728\nf_k = 0.06666666666666667\nf_k = 0.08695652173913043\nf_k = 0.06382978723404255\nf_k = 0.125\nf_k = 0.02040816326530612\nf_k = 0.1\nf_k = 0.09803921568627451\nf_k = 0.15384615384615385\nf_k = 0.018867924528301886\nf_k = 0.07407407407407407\nf_k = 0.12727272727272726\nf_k = 0.03571428571428571\nf_k = 0.10526315789473684\nf_k = 0.05172413793103448\nf_k = 0.1016949152542373\nf_k = 0.016666666666666666\nf_k = 0.08196721311475409\nf_k = 0.06451612903225806\nf_k = 0.031746031746031744\nf_k = 0.125\nf_k = 0.015384615384615385\nf_k = 0.0\nf_k = 0.07462686567164178\nf_k = 0.10294117647058823\nf_k = 0.043478260869565216\nf_k = 0.07142857142857142\nf_k = 0.07042253521126761\nf_k = 0.08333333333333333\nf_k = 0.0958904109589041\nf_k = 0.08108108108108109\nf_k = 0.08\nf_k = 0.11842105263157894\nf_k = 0.07792207792207792\nf_k = 0.08974358974358974\nf_k = 0.06329113924050633\nf_k = 0.0625\nf_k = 0.04938271604938271\nf_k = 0.0975609756097561\nf_k = 0.13253012048192772\nf_k = 0.07142857142857142\nf_k = 0.047058823529411764\nf_k = 0.06976744186046512\nf_k = 0.05747126436781609\nf_k = 0.125\nf_k = 0.0449438202247191\nf_k = 0.08888888888888889\nf_k = 0.13186813186813187\nf_k = 0.043478260869565216\nf_k = 0.053763440860215055\nf_k = 0.07446808510638298\nf_k = 0.07368421052631578\nf_k = 0.07291666666666667\nf_k = 0.10309278350515463\nf_k = 0.07142857142857142\nf_k = 0.04040404040404041\n"
     ]
    }
   ],
   "source": [
    "from scipy.special import comb\n",
    "\n",
    "k_bar = 4\n",
    "b = []\n",
    "# N : float\n",
    "for N in range(10, 100):\n",
    "    p = k_bar / N\n",
    "\n",
    "    G = nx.erdos_renyi_graph(N, p)\n",
    "    k = 1\n",
    "\n",
    "    counter = 0\n",
    "    for node in G.nodes:\n",
    "        if G.degree(node) == k:\n",
    "            counter += 1\n",
    "\n",
    "    b.append(counter / N)\n",
    "\n",
    "plt.figure()\n",
    "plt.plot(range(10, 100), b)\n",
    "plt.show()\n"
   ]
  },
  {
   "cell_type": "markdown",
   "metadata": {},
   "source": [
    "*Add discussion here*"
   ]
  }
 ],
 "metadata": {
  "kernelspec": {
   "display_name": "Python 3",
   "language": "python",
   "name": "python3"
  },
  "language_info": {
   "codemirror_mode": {
    "name": "ipython",
    "version": 3
   },
   "file_extension": ".py",
   "mimetype": "text/x-python",
   "name": "python",
   "nbconvert_exporter": "python",
   "pygments_lexer": "ipython3",
   "version": "3.8.5-final"
  }
 },
 "nbformat": 4,
 "nbformat_minor": 1
}