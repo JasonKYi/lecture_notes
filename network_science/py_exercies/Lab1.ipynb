{
 "cells": [
  {
   "cell_type": "markdown",
   "metadata": {},
   "source": [
    "## Network Science Lab 1"
   ]
  },
  {
   "cell_type": "markdown",
   "metadata": {},
   "source": [
    "### Task 1: Barabasi-Albert network"
   ]
  },
  {
   "cell_type": "markdown",
   "metadata": {},
   "source": [
    "The Barabasi-Albert model for complex networks is based on the idea that networks evolve over time and that new nodes are more likely to link to high-degree nodes. It is (probably) the single-most important model in the field of network science as it reproduces important qualitative features seen in large complex real-world networks.\n",
    "We will study this model later in the term, and in this task, you will use NetworkX to generate B-A networks and investigate their properties."
   ]
  },
  {
   "cell_type": "markdown",
   "metadata": {},
   "source": [
    "1) The B-A model requires two input parameters: the total number of nodes (*N*), and the number of links, *L*,  added between a new node and the existing network upon its introduction. Use the function *nx.barabasi_albert_graph* to generate a B-A graph with *N=500* and *L=4*. Draw your graph (with node_size=6) and zoom into the figure and look around -- do you see any hubs? (Note that the figure will have to open in a separate window for the zoom option to be available)"
   ]
  },
  {
   "cell_type": "code",
   "execution_count": 6,
   "metadata": {},
   "outputs": [
    {
     "output_type": "stream",
     "name": "stdout",
     "text": [
      "Using matplotlib backend: GTK3Agg\nPopulating the interactive namespace from numpy and matplotlib\n"
     ]
    }
   ],
   "source": [
    "import networkx as nx\n",
    "%pylab\n",
    "G = nx.barabasi_albert_graph(500, 4)\n",
    "plt.figure()\n",
    "nx.draw(G, node_size=6)\n",
    "plt.show()\n"
   ]
  },
  {
   "cell_type": "markdown",
   "metadata": {},
   "source": [
    "2) Now, generate a B-A graph with *N=5000*, *L=4*, and an Erdos-Renyi ($G_{Np}$) graph with *N=5000* and *P=0.002*.\n",
    "Compute the degree distributions for these graphs and plot them on a log-log plot."
   ]
  },
  {
   "cell_type": "code",
   "execution_count": 8,
   "metadata": {
    "collapsed": true
   },
   "outputs": [],
   "source": [
    "G2 = nx.barabasi_albert_graph(5000, 4)\n",
    "G3 = nx.erdos_renyi_graph(5000, 0.002)\n",
    "hist1 = nx.degree_histogram(G2)\n",
    "hist2 = nx.degree_histogram(G3)\n",
    "plt.figure()\n",
    "plt.plot(range(len(hist1)), hist1, \"bo\")\n",
    "plt.plot(range(len(hist2)), hist2, \"ro\")\n",
    "plt.show()"
   ]
  },
  {
   "cell_type": "markdown",
   "metadata": {},
   "source": [
    "3) Compute and compare the average clustering coefficient for the E-R and B-A graphs."
   ]
  },
  {
   "cell_type": "code",
   "execution_count": 12,
   "metadata": {
    "collapsed": true,
    "tags": []
   },
   "outputs": [
    {
     "output_type": "stream",
     "name": "stdout",
     "text": [
      "Average clustering coefficient of G2 = 0.01021535916270638\nAverage clustering coefficient of G3 = 0.0019252891965275886\n"
     ]
    }
   ],
   "source": [
    "C1 = nx.average_clustering(G2)\n",
    "C2 = nx.average_clustering(G3)\n",
    "print(\"Average clustering coefficient of G2 =\", C1)\n",
    "print(\"Average clustering coefficient of G3 =\", C2)"
   ]
  },
  {
   "cell_type": "markdown",
   "metadata": {},
   "source": [
    "### Task 2: Adjacency matrices and Numpy"
   ]
  },
  {
   "cell_type": "markdown",
   "metadata": {},
   "source": [
    "1. An N-node star graph has $N-1$ nodes with degree $1$ and $1$ node with degree $N-1$. Use Numpy (and not NetworkX) to generate $A_1$, the adjacency matrix for this graph. Number the nodes from *0* to *N-1* with node *0* corresponding to the high-degree node. An example with *N=8*:\n",
    "<img src=\"https://upload.wikimedia.org/wikipedia/commons/thumb/4/49/Star_network_7.svg/180px-Star_network_7.svg.png\">"
   ]
  },
  {
   "cell_type": "code",
   "execution_count": 80,
   "metadata": {
    "collapsed": true
   },
   "outputs": [],
   "source": [
    "N=6\n",
    "#Add code here (code should work for any sensible N)\n",
    "def star_adjacency_mat(N : int) -> np.ndarray:\n",
    "    row1 = np.ones((1, N - 1))\n",
    "    col1 = np.ones((N - 1, 1))\n",
    "    return np.block([[0, row1], [col1, np.zeros((N - 1, N - 1))]])\n",
    "\n",
    "A1 = star_adjacency_mat(N)"
   ]
  },
  {
   "cell_type": "markdown",
   "metadata": {},
   "source": [
    "2. Now consider a *closed* star graph where a \"ring\" of links is placed around an ordinary star graph. \n",
    "Then, the  graph will have *1* node with degree $N-1$ and $N-1$ nodes with degree *3*. Use Numpy to create $A_2$, the adjacency matrix for this graph. The function *np.diag* may be helpful."
   ]
  },
  {
   "cell_type": "code",
   "execution_count": 79,
   "metadata": {
    "collapsed": true
   },
   "outputs": [],
   "source": [
    "N=6\n",
    "#Add code here (code should work for any sensible N)\n",
    "def ring_adjacency_mat(N : int) -> np.ndarray:\n",
    "    M = np.zeros((N, N))\n",
    "    for index in range(N):\n",
    "        M[index][index - 1] = 1\n",
    "        try:\n",
    "            M[index][index + 1] = 1\n",
    "        except IndexError:\n",
    "            M[index][0] = 1\n",
    "    return M\n",
    "\n",
    "def closed_star_adjacency_mat(N : int) -> np.ndarray:\n",
    "    row1 = np.ones((1, N - 1))\n",
    "    col1 = np.ones((N - 1, 1))\n",
    "    return np.block([[0, row1], [col1, ring_adjacency_mat(N - 1)]])\n",
    "\n",
    "A2 = closed_star_adjacency_mat(N)"
   ]
  },
  {
   "cell_type": "markdown",
   "metadata": {},
   "source": [
    "3. Verify that $(A_2+I)(A_2+I)^{-1} = I$"
   ]
  },
  {
   "cell_type": "code",
   "execution_count": 85,
   "metadata": {
    "collapsed": true
   },
   "outputs": [
    {
     "output_type": "execute_result",
     "data": {
      "text/plain": [
       "True"
      ]
     },
     "metadata": {},
     "execution_count": 85
    }
   ],
   "source": [
    "#Add code here\n",
    "np.array_equal(np.dot(A2 + np.identity(N), np.linalg.inv(A2 + np.identity(N))), np.identity(N))"
   ]
  },
  {
   "cell_type": "markdown",
   "metadata": {},
   "source": [
    "4. Finally, use NetworkX to convert $A_2$ into a NetworkX graph, and then display the graph "
   ]
  },
  {
   "cell_type": "code",
   "execution_count": 88,
   "metadata": {},
   "outputs": [],
   "source": [
    "# Add code here\n",
    "G3 = nx.from_numpy_matrix(A2)\n",
    "plt.figure()\n",
    "nx.draw(G3)\n",
    "plt.show()"
   ]
  }
 ],
 "metadata": {
  "kernelspec": {
   "display_name": "Python 3",
   "language": "python",
   "name": "python3"
  },
  "language_info": {
   "codemirror_mode": {
    "name": "ipython",
    "version": 3
   },
   "file_extension": ".py",
   "mimetype": "text/x-python",
   "name": "python",
   "nbconvert_exporter": "python",
   "pygments_lexer": "ipython3",
   "version": "3.8.5-final"
  }
 },
 "nbformat": 4,
 "nbformat_minor": 1
}